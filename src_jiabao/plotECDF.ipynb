{
 "cells": [
  {
   "cell_type": "code",
   "execution_count": 19,
   "id": "749b67d4-f004-4610-8635-0bf56dc7fdfe",
   "metadata": {},
   "outputs": [
    {
     "data": {
      "text/html": [
       "<style>\n",
       ".list-inline {list-style: none; margin:0; padding: 0}\n",
       ".list-inline>li {display: inline-block}\n",
       ".list-inline>li:not(:last-child)::after {content: \"\\00b7\"; padding: 0 .5ex}\n",
       "</style>\n",
       "<ol class=list-inline><li>'__pycache__'</li><li>'baseline_main.py'</li><li>'eda.ipynb'</li><li>'federated_main.py'</li><li>'mnist_iid.csv'</li><li>'mnist_niid_equal.csv'</li><li>'mnist_niid_mix.csv'</li><li>'mnist_niid_unique.csv'</li><li>'models.py'</li><li>'options.py'</li><li>'plotECDF.ipynb'</li><li>'sampling.py'</li><li>'testing.py'</li><li>'update.py'</li><li>'utils.py'</li></ol>\n"
      ],
      "text/latex": [
       "\\begin{enumerate*}\n",
       "\\item '\\_\\_pycache\\_\\_'\n",
       "\\item 'baseline\\_main.py'\n",
       "\\item 'eda.ipynb'\n",
       "\\item 'federated\\_main.py'\n",
       "\\item 'mnist\\_iid.csv'\n",
       "\\item 'mnist\\_niid\\_equal.csv'\n",
       "\\item 'mnist\\_niid\\_mix.csv'\n",
       "\\item 'mnist\\_niid\\_unique.csv'\n",
       "\\item 'models.py'\n",
       "\\item 'options.py'\n",
       "\\item 'plotECDF.ipynb'\n",
       "\\item 'sampling.py'\n",
       "\\item 'testing.py'\n",
       "\\item 'update.py'\n",
       "\\item 'utils.py'\n",
       "\\end{enumerate*}\n"
      ],
      "text/markdown": [
       "1. '__pycache__'\n",
       "2. 'baseline_main.py'\n",
       "3. 'eda.ipynb'\n",
       "4. 'federated_main.py'\n",
       "5. 'mnist_iid.csv'\n",
       "6. 'mnist_niid_equal.csv'\n",
       "7. 'mnist_niid_mix.csv'\n",
       "8. 'mnist_niid_unique.csv'\n",
       "9. 'models.py'\n",
       "10. 'options.py'\n",
       "11. 'plotECDF.ipynb'\n",
       "12. 'sampling.py'\n",
       "13. 'testing.py'\n",
       "14. 'update.py'\n",
       "15. 'utils.py'\n",
       "\n",
       "\n"
      ],
      "text/plain": [
       " [1] \"__pycache__\"           \"baseline_main.py\"      \"eda.ipynb\"            \n",
       " [4] \"federated_main.py\"     \"mnist_iid.csv\"         \"mnist_niid_equal.csv\" \n",
       " [7] \"mnist_niid_mix.csv\"    \"mnist_niid_unique.csv\" \"models.py\"            \n",
       "[10] \"options.py\"            \"plotECDF.ipynb\"        \"sampling.py\"          \n",
       "[13] \"testing.py\"            \"update.py\"             \"utils.py\"             "
      ]
     },
     "metadata": {},
     "output_type": "display_data"
    }
   ],
   "source": [
    "list.files()"
   ]
  },
  {
   "cell_type": "code",
   "execution_count": 1,
   "id": "a69362fb-0eb2-48a3-9449-0af80aa5fe54",
   "metadata": {},
   "outputs": [],
   "source": [
    "clientLabelPwd = 'mnist_iid.csv'"
   ]
  },
  {
   "cell_type": "code",
   "execution_count": 20,
   "id": "093a2d54-a747-4b67-989e-9805449c4790",
   "metadata": {},
   "outputs": [],
   "source": [
    "clientLabelPwd = 'mnist_niid_equal.csv'\n"
   ]
  },
  {
   "cell_type": "code",
   "execution_count": 26,
   "id": "861992f3-9213-4309-96e5-7f7a303cb5c3",
   "metadata": {},
   "outputs": [],
   "source": [
    "clientLabelPwd = 'mnist_niid_unique.csv'\n"
   ]
  },
  {
   "cell_type": "code",
   "execution_count": 32,
   "id": "62276cf5-b3bc-48b1-95f9-63a19ca70b96",
   "metadata": {},
   "outputs": [],
   "source": [
    "clientLabelPwd = 'mnist_niid_mix.csv'"
   ]
  },
  {
   "cell_type": "code",
   "execution_count": 33,
   "id": "9c92430b-4552-4140-88d7-1ac09dc52f4e",
   "metadata": {},
   "outputs": [],
   "source": [
    "library(data.table)"
   ]
  },
  {
   "cell_type": "code",
   "execution_count": 34,
   "id": "09221084-7fb4-4889-956a-c9d6c5bb417a",
   "metadata": {},
   "outputs": [],
   "source": [
    "clientLabelDf = data.frame(fread(clientLabelPwd))"
   ]
  },
  {
   "cell_type": "code",
   "execution_count": 35,
   "id": "f9bca047-f7bf-4a5c-81bd-f8a688db9d4a",
   "metadata": {},
   "outputs": [
    {
     "data": {
      "text/html": [
       "<style>\n",
       ".list-inline {list-style: none; margin:0; padding: 0}\n",
       ".list-inline>li {display: inline-block}\n",
       ".list-inline>li:not(:last-child)::after {content: \"\\00b7\"; padding: 0 .5ex}\n",
       "</style>\n",
       "<ol class=list-inline><li>'client'</li><li>'target'</li></ol>\n"
      ],
      "text/latex": [
       "\\begin{enumerate*}\n",
       "\\item 'client'\n",
       "\\item 'target'\n",
       "\\end{enumerate*}\n"
      ],
      "text/markdown": [
       "1. 'client'\n",
       "2. 'target'\n",
       "\n",
       "\n"
      ],
      "text/plain": [
       "[1] \"client\" \"target\""
      ]
     },
     "metadata": {},
     "output_type": "display_data"
    }
   ],
   "source": [
    "colnames(clientLabelDf)"
   ]
  },
  {
   "cell_type": "code",
   "execution_count": 36,
   "id": "efab4d4d-c437-4443-9e6f-1d23913ab4d4",
   "metadata": {},
   "outputs": [],
   "source": [
    "library(ggplot2)"
   ]
  },
  {
   "cell_type": "code",
   "execution_count": 37,
   "id": "40034c8d-cc21-4983-ac1d-22f06490b761",
   "metadata": {},
   "outputs": [
    {
     "data": {
      "image/png": "[encoded data removed]",
      "text/plain": [
       "plot without title"
      ]
     },
     "metadata": {
      "image/png": {
       "height": 420,
       "width": 420
      }
     },
     "output_type": "display_data"
    }
   ],
   "source": [
    "ggplot(clientLabelDf, mapping = aes(x = target,\n",
    "                                   col = as.factor(client),\n",
    "                                   group = as.factor(client))) + \n",
    "  stat_ecdf(geom = \"step\") +\n",
    "theme_classic() +\n",
    "theme(text = element_text(size = 15)) +\n",
    "labs(x = 'Target',\n",
    "    y = 'ECDF',\n",
    "    col = 'Client')"
   ]
  },
  {
   "cell_type": "code",
   "execution_count": null,
   "id": "6189d99d-08df-4108-83b5-2e5251e28933",
   "metadata": {},
   "outputs": [],
   "source": []
  },
  {
   "cell_type": "code",
   "execution_count": null,
   "id": "3ce1cdc5-76f4-4e59-a691-cdba60a91500",
   "metadata": {},
   "outputs": [],
   "source": []
  },
  {
   "cell_type": "code",
   "execution_count": null,
   "id": "32e9a374-ceb8-4c27-a5ff-6020f5a216e0",
   "metadata": {},
   "outputs": [],
   "source": []
  },
  {
   "cell_type": "code",
   "execution_count": null,
   "id": "5991f1d7-dc77-47c9-b44b-788afbcb2926",
   "metadata": {},
   "outputs": [],
   "source": []
  }
 ],
 "metadata": {
  "kernelspec": {
   "display_name": "R",
   "language": "R",
   "name": "ir"
  },
  "language_info": {
   "codemirror_mode": "r",
   "file_extension": ".r",
   "mimetype": "text/x-r-source",
   "name": "R",
   "pygments_lexer": "r",
   "version": "4.2.0"
  }
 },
 "nbformat": 4,
 "nbformat_minor": 5
}
